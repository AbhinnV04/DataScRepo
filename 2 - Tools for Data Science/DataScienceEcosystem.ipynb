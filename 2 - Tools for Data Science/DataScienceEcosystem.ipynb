{
 "cells": [
  {
   "cell_type": "markdown",
   "id": "18d30558",
   "metadata": {},
   "source": [
    "# Data Science Tools and Ecosystem"
   ]
  },
  {
   "cell_type": "markdown",
   "id": "1eb6d2c3",
   "metadata": {},
   "source": [
    "In this notebook, Data Science Tools and Ecosysten are summarized."
   ]
  },
  {
   "cell_type": "markdown",
   "id": "09dd2f9f",
   "metadata": {},
   "source": [
    "Objectives:\n",
    "* Popular Languages for Data Science\n",
    "* Popular Libraries for Data Science\n",
    "* Popular Tools for Data Science\n",
    "* Arithmetic Expression Evaluation in Python\n",
    "* Basic skills in Jupyter Notebook"
   ]
  },
  {
   "cell_type": "markdown",
   "id": "95314b99",
   "metadata": {},
   "source": [
    "Some of the popular languages that Data Scientists use are:\n",
    "1. Python\n",
    "2. R \n",
    "3. SQL\n",
    "5. Scala \n",
    "6. C++ \n",
    "etc."
   ]
  },
  {
   "cell_type": "markdown",
   "id": "8c88c2d7",
   "metadata": {},
   "source": [
    "Some of the commonly used libraries used by Data Scientists include:\n",
    "1. Pandas (Data cleaning, manipulation and analysis, 2D table called data-frame)\n",
    "2. NumPy (arrays and matrices, pandas is built on it)\n",
    "3. Matplotlib (graphs and plots)\n",
    "4. PyTorch (Experimentation regression and classification)\n",
    "7. Ggplot2 (data visualization) etc.\n",
    "\n",
    "\n",
    "\n",
    "\n"
   ]
  },
  {
   "cell_type": "markdown",
   "id": "a1b47d14",
   "metadata": {},
   "source": [
    "Some of the commonly used open-source used by Data Scientists include:\n",
    "Data Science Tools| \n",
    "|---|\n",
    "|Jupyter/ Jupyter Lab |\n",
    "|R Studio |\n",
    "|Apache Airflow |"
   ]
  },
  {
   "cell_type": "markdown",
   "id": "aa9b11a6",
   "metadata": {},
   "source": [
    "### Below are a few examples of evaluating arithmetic expressions in Python"
   ]
  },
  {
   "cell_type": "code",
   "execution_count": 3,
   "id": "40e88957",
   "metadata": {},
   "outputs": [
    {
     "data": {
      "text/plain": [
       "17"
      ]
     },
     "execution_count": 3,
     "metadata": {},
     "output_type": "execute_result"
    }
   ],
   "source": [
    "# This is a simple arithmetic expression to multiply then add integers\n",
    "(3*4)+5 "
   ]
  },
  {
   "cell_type": "code",
   "execution_count": 5,
   "id": "6f9947a9",
   "metadata": {},
   "outputs": [
    {
     "data": {
      "text/plain": [
       "3.3333333333333335"
      ]
     },
     "execution_count": 5,
     "metadata": {},
     "output_type": "execute_result"
    }
   ],
   "source": [
    "# This will convert 200 minutes to hours by diving by 60\n",
    "200/60"
   ]
  },
  {
   "cell_type": "markdown",
   "id": "8ace72d0",
   "metadata": {},
   "source": [
    "## Author\n",
    "Abhinn Verma"
   ]
  }
 ],
 "metadata": {
  "kernelspec": {
   "display_name": "Python 3 (ipykernel)",
   "language": "python",
   "name": "python3"
  },
  "language_info": {
   "codemirror_mode": {
    "name": "ipython",
    "version": 3
   },
   "file_extension": ".py",
   "mimetype": "text/x-python",
   "name": "python",
   "nbconvert_exporter": "python",
   "pygments_lexer": "ipython3",
   "version": "3.10.9"
  }
 },
 "nbformat": 4,
 "nbformat_minor": 5
}
